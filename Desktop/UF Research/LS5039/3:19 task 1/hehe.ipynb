{
 "cells": [
  {
   "cell_type": "code",
   "execution_count": 11,
   "metadata": {},
   "outputs": [
    {
     "name": "stdout",
     "output_type": "stream",
     "text": [
      "1\n",
      "28266\n",
      "next\n",
      "2\n",
      "56532\n",
      "next\n",
      "3\n",
      "84798\n",
      "next\n",
      "4\n",
      "113064\n",
      "next\n",
      "5\n",
      "141330\n",
      "next\n",
      "6\n",
      "169596\n",
      "next\n",
      "7\n",
      "197862\n",
      "next\n",
      "8\n",
      "226128\n",
      "next\n",
      "9\n",
      "254394\n",
      "next\n",
      "10\n",
      "282660\n",
      "next\n",
      "11\n",
      "310926\n",
      "next\n",
      "12\n",
      "339192\n",
      "next\n",
      "13\n",
      "367458\n",
      "next\n",
      "14\n",
      "395724\n",
      "next\n",
      "15\n",
      "423990\n",
      "next\n",
      "16\n",
      "452256\n",
      "next\n",
      "17\n",
      "480522\n",
      "next\n",
      "18\n",
      "508788\n",
      "next\n",
      "19\n",
      "537054\n",
      "next\n",
      "20\n",
      "565320\n",
      "next\n"
     ]
    }
   ],
   "source": [
    "for i in range(1,21):\n",
    "    print(i)\n",
    "    print(28266*i)\n",
    "    print(\"next\")"
   ]
  },
  {
   "cell_type": "code",
   "execution_count": 12,
   "metadata": {},
   "outputs": [],
   "source": [
    "import numpy as np"
   ]
  },
  {
   "cell_type": "code",
   "execution_count": 16,
   "metadata": {},
   "outputs": [
    {
     "name": "stdout",
     "output_type": "stream",
     "text": [
      "4.626666666666666\n"
     ]
    }
   ],
   "source": [
    "print(np.average((float(4.64),float(4.52),float(4.72))))"
   ]
  },
  {
   "cell_type": "code",
   "execution_count": null,
   "metadata": {},
   "outputs": [],
   "source": []
  }
 ],
 "metadata": {
  "kernelspec": {
   "display_name": "Python 3",
   "language": "python",
   "name": "python3"
  },
  "language_info": {
   "codemirror_mode": {
    "name": "ipython",
    "version": 3
   },
   "file_extension": ".py",
   "mimetype": "text/x-python",
   "name": "python",
   "nbconvert_exporter": "python",
   "pygments_lexer": "ipython3",
   "version": "3.7.1"
  }
 },
 "nbformat": 4,
 "nbformat_minor": 2
}
