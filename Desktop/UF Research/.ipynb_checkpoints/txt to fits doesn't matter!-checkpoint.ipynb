{
 "cells": [
  {
   "cell_type": "code",
   "execution_count": 1,
   "metadata": {},
   "outputs": [],
   "source": [
    "import numpy as np \n",
    "from astropy.table import Table\n",
    "from astropy.io import fits\n",
    "from astropy.io import ascii"
   ]
  },
  {
   "cell_type": "markdown",
   "metadata": {},
   "source": [
    "## Making .txt file separated into columns"
   ]
  },
  {
   "cell_type": "code",
   "execution_count": 2,
   "metadata": {},
   "outputs": [],
   "source": [
    "import numpy as np\n",
    "data = np.genfromtxt('ls5039_lc1.txt', unpack=True).T\n",
    "\n",
    "mjd = ((data[:,0]))\n",
    "counts = ((data[:,1]))\n",
    "error = (data[:,2])\n",
    "ref_counts = (data[:,3])\n",
    "ref_error = ((data[:,4]))\n",
    "\n",
    "col1 = mjd\n",
    "col2 = counts\n",
    "col3 = error\n",
    "col4 = ref_counts\n",
    "col5 = ref_error\n",
    "\n",
    "with open('test.txt', 'w') as f:\n",
    "#     f.write(\"\\tMJD\\t\\t\")\n",
    "#     f.write(\"COUNTS\\t\\t\")\n",
    "#     f.write(\"ERROR\\t    \")\n",
    "#     f.write(\"REF_COUNTS\\t    \")\n",
    "#     f.write(\"REF_ERROR\\n\")  # Header line\n",
    "    f.write('{a:^8}{b:^8}{c:^8}{d:^8}{e:^8}'.format(a='\\tMJD\\t\\t', b='COUNTS\\t\\t', c='ERROR\\t    ',d='REF_COUNTS\\t    ',e='REF_ERROR\\n'))\n",
    "    for a, b, c, d, e in zip(col1, col2, col3, col4, col5):\n",
    "#         f.write(\"MJD,COUNTS,ERROR,REFERENCE_COUNTS,REFERENCE_ERROR\\n\")  # Header line \n",
    "        f.write('{0:15}{1:15}{2:15}{3:15}{4:15}\\n'.format(a, b, c, d, e))"
   ]
  },
  {
   "cell_type": "code",
   "execution_count": 3,
   "metadata": {},
   "outputs": [],
   "source": [
    "with open('test.txt') as infile:\n",
    "    for line in infile:\n",
    "#         print(line.split()[0]) # only mjd \n",
    "#         print(line.split()[1]) # only counts\n",
    "#         print(line.split()[2]) # only error\n",
    "#         print(line.split()[3]) # only ref_counts\n",
    "#         print(line.split()[4]) # only ref_error\n",
    "        continue"
   ]
  },
  {
   "cell_type": "markdown",
   "metadata": {},
   "source": [
    "## Making FITS files"
   ]
  },
  {
   "cell_type": "code",
   "execution_count": 4,
   "metadata": {},
   "outputs": [],
   "source": [
    "# table = Table.read('test.txt', format='ascii')\n",
    "# mjdtime = table[0][:]\n",
    "# flux = table[1][:]\n",
    "# reference_flux = table[3][:]"
   ]
  },
  {
   "cell_type": "code",
   "execution_count": 5,
   "metadata": {},
   "outputs": [],
   "source": [
    "# img = np.zeros((len(table), len(table)))\n",
    "\n",
    "# for x,y in zip(mjdtime,flux):\n",
    "#     print(x,y)\n",
    "\n",
    "# fits.writeto('ls5039_lc1_fixed.fits', img)"
   ]
  },
  {
   "cell_type": "code",
   "execution_count": 6,
   "metadata": {},
   "outputs": [],
   "source": [
    "# img = np.zeros((len(table), len(table)))\n",
    "\n",
    "# for x,y in zip(mjdtime,reference_flux):\n",
    "#     print(x,y)\n",
    "\n",
    "# fits.writeto('ls5039_lc1ref_fixed.fits', img)"
   ]
  },
  {
   "cell_type": "code",
   "execution_count": 7,
   "metadata": {},
   "outputs": [],
   "source": [
    "# table = Table.read('ls5039_lc2.txt', format='ascii')\n",
    "# mjdtime = table[0][:]\n",
    "# flux = table[1][:]\n",
    "# reference_flux = table[3][:]"
   ]
  },
  {
   "cell_type": "code",
   "execution_count": 8,
   "metadata": {},
   "outputs": [],
   "source": [
    "# img = np.zeros((len(table), len(table)))\n",
    "\n",
    "# for x,y in zip(mjdtime,flux):\n",
    "#     print(x,y)\n",
    "\n",
    "# fits.writeto('ls5039_lc2.fits', img)"
   ]
  },
  {
   "cell_type": "code",
   "execution_count": 9,
   "metadata": {},
   "outputs": [],
   "source": [
    "# img = np.zeros((len(table), len(table)))\n",
    "\n",
    "# for x,y in zip(mjdtime,reference_flux):\n",
    "#     print(x,y)\n",
    "\n",
    "# fits.writeto('ls5039_lc2ref.fits', img)"
   ]
  },
  {
   "cell_type": "markdown",
   "metadata": {},
   "source": [
    "## Using dataclass.py"
   ]
  },
  {
   "cell_type": "code",
   "execution_count": 10,
   "metadata": {},
   "outputs": [],
   "source": [
    "from dataclass3 import StarA\n",
    "import seaborn as sns"
   ]
  },
  {
   "cell_type": "code",
   "execution_count": 11,
   "metadata": {},
   "outputs": [
    {
     "ename": "ValueError",
     "evalue": "Elements in list initialization must be either Column or list-like",
     "output_type": "error",
     "traceback": [
      "\u001b[0;31m---------------------------------------------------------------------------\u001b[0m",
      "\u001b[0;31mValueError\u001b[0m                                Traceback (most recent call last)",
      "\u001b[0;32m<ipython-input-11-eb1c60f85182>\u001b[0m in \u001b[0;36m<module>\u001b[0;34m\u001b[0m\n\u001b[1;32m      1\u001b[0m \u001b[0mfilename\u001b[0m \u001b[0;34m=\u001b[0m \u001b[0;34m(\u001b[0m\u001b[0;34m\"ls5039_lc1_fixed\"\u001b[0m\u001b[0;34m)\u001b[0m\u001b[0;34m\u001b[0m\u001b[0;34m\u001b[0m\u001b[0m\n\u001b[1;32m      2\u001b[0m \u001b[0mstar1\u001b[0m \u001b[0;34m=\u001b[0m \u001b[0;34m(\u001b[0m\u001b[0mfilename\u001b[0m \u001b[0;34m+\u001b[0m \u001b[0;34m\"*.fits\"\u001b[0m\u001b[0;34m)\u001b[0m\u001b[0;34m\u001b[0m\u001b[0;34m\u001b[0m\u001b[0m\n\u001b[0;32m----> 3\u001b[0;31m \u001b[0mstar1\u001b[0m \u001b[0;34m=\u001b[0m \u001b[0mStarA\u001b[0m\u001b[0;34m(\u001b[0m\u001b[0mstar1\u001b[0m\u001b[0;34m)\u001b[0m\u001b[0;34m\u001b[0m\u001b[0;34m\u001b[0m\u001b[0m\n\u001b[0m\u001b[1;32m      4\u001b[0m \u001b[0;34m\u001b[0m\u001b[0m\n\u001b[1;32m      5\u001b[0m \u001b[0mstar1\u001b[0m\u001b[0;34m.\u001b[0m\u001b[0mfilter\u001b[0m\u001b[0;34m(\u001b[0m\u001b[0;34m)\u001b[0m\u001b[0;34m\u001b[0m\u001b[0;34m\u001b[0m\u001b[0m\n",
      "\u001b[0;32m~/Desktop/Research/dataclass3.py\u001b[0m in \u001b[0;36m__init__\u001b[0;34m(self, *args)\u001b[0m\n\u001b[1;32m     44\u001b[0m             \u001b[0mself\u001b[0m\u001b[0;34m.\u001b[0m\u001b[0mfilenames\u001b[0m \u001b[0;34m=\u001b[0m \u001b[0;34m[\u001b[0m\u001b[0mos\u001b[0m\u001b[0;34m.\u001b[0m\u001b[0mpath\u001b[0m\u001b[0;34m.\u001b[0m\u001b[0mabspath\u001b[0m\u001b[0;34m(\u001b[0m\u001b[0marg\u001b[0m\u001b[0;34m)\u001b[0m \u001b[0;32mfor\u001b[0m \u001b[0marg\u001b[0m \u001b[0;32min\u001b[0m \u001b[0margs\u001b[0m\u001b[0;34m]\u001b[0m\u001b[0;34m\u001b[0m\u001b[0;34m\u001b[0m\u001b[0m\n\u001b[1;32m     45\u001b[0m \u001b[0;34m\u001b[0m\u001b[0m\n\u001b[0;32m---> 46\u001b[0;31m         \u001b[0mself\u001b[0m\u001b[0;34m.\u001b[0m\u001b[0mget_data\u001b[0m\u001b[0;34m(\u001b[0m\u001b[0;34m)\u001b[0m\u001b[0;34m\u001b[0m\u001b[0;34m\u001b[0m\u001b[0m\n\u001b[0m\u001b[1;32m     47\u001b[0m         \u001b[0mself\u001b[0m\u001b[0;34m.\u001b[0m\u001b[0mfiltered\u001b[0m \u001b[0;34m=\u001b[0m \u001b[0;32mFalse\u001b[0m\u001b[0;34m\u001b[0m\u001b[0;34m\u001b[0m\u001b[0m\n\u001b[1;32m     48\u001b[0m \u001b[0;34m\u001b[0m\u001b[0m\n",
      "\u001b[0;32m~/Desktop/Research/dataclass3.py\u001b[0m in \u001b[0;36mget_data\u001b[0;34m(self)\u001b[0m\n\u001b[1;32m    100\u001b[0m \u001b[0;31m#                              flags[nan_mask]], names=['bjd', 'flux', 'err',\u001b[0m\u001b[0;34m\u001b[0m\u001b[0;34m\u001b[0m\u001b[0;34m\u001b[0m\u001b[0m\n\u001b[1;32m    101\u001b[0m \u001b[0;31m#                                                       'flags'], masked=True)\u001b[0m\u001b[0;34m\u001b[0m\u001b[0;34m\u001b[0m\u001b[0;34m\u001b[0m\u001b[0m\n\u001b[0;32m--> 102\u001b[0;31m                 \u001b[0mdata\u001b[0m \u001b[0;34m=\u001b[0m \u001b[0mTable\u001b[0m\u001b[0;34m(\u001b[0m\u001b[0;34m[\u001b[0m\u001b[0mbjd\u001b[0m\u001b[0;34m,\u001b[0m\u001b[0mflux\u001b[0m\u001b[0;34m,\u001b[0m\u001b[0merr\u001b[0m\u001b[0;34m]\u001b[0m\u001b[0;34m,\u001b[0m\u001b[0mnames\u001b[0m\u001b[0;34m=\u001b[0m\u001b[0;34m(\u001b[0m\u001b[0;34m'bjd'\u001b[0m\u001b[0;34m,\u001b[0m\u001b[0;34m'flux'\u001b[0m\u001b[0;34m,\u001b[0m\u001b[0;34m'err'\u001b[0m\u001b[0;34m)\u001b[0m\u001b[0;34m,\u001b[0m\u001b[0mmasked\u001b[0m \u001b[0;34m=\u001b[0m \u001b[0;32mTrue\u001b[0m\u001b[0;34m)\u001b[0m\u001b[0;34m\u001b[0m\u001b[0;34m\u001b[0m\u001b[0m\n\u001b[0m\u001b[1;32m    103\u001b[0m \u001b[0;34m\u001b[0m\u001b[0m\n\u001b[1;32m    104\u001b[0m \u001b[0;34m\u001b[0m\u001b[0m\n",
      "\u001b[0;32m~/anaconda3/lib/python3.7/site-packages/astropy/table/table.py\u001b[0m in \u001b[0;36m__init__\u001b[0;34m(self, data, masked, names, dtype, meta, copy, rows, copy_indices, **kwargs)\u001b[0m\n\u001b[1;32m    407\u001b[0m \u001b[0;34m\u001b[0m\u001b[0m\n\u001b[1;32m    408\u001b[0m         \u001b[0;31m# Finally do the real initialization\u001b[0m\u001b[0;34m\u001b[0m\u001b[0;34m\u001b[0m\u001b[0;34m\u001b[0m\u001b[0m\n\u001b[0;32m--> 409\u001b[0;31m         \u001b[0minit_func\u001b[0m\u001b[0;34m(\u001b[0m\u001b[0mdata\u001b[0m\u001b[0;34m,\u001b[0m \u001b[0mnames\u001b[0m\u001b[0;34m,\u001b[0m \u001b[0mdtype\u001b[0m\u001b[0;34m,\u001b[0m \u001b[0mn_cols\u001b[0m\u001b[0;34m,\u001b[0m \u001b[0mcopy\u001b[0m\u001b[0;34m)\u001b[0m\u001b[0;34m\u001b[0m\u001b[0;34m\u001b[0m\u001b[0m\n\u001b[0m\u001b[1;32m    410\u001b[0m \u001b[0;34m\u001b[0m\u001b[0m\n\u001b[1;32m    411\u001b[0m         \u001b[0;31m# Whatever happens above, the masked property should be set to a boolean\u001b[0m\u001b[0;34m\u001b[0m\u001b[0;34m\u001b[0m\u001b[0;34m\u001b[0m\u001b[0m\n",
      "\u001b[0;32m~/anaconda3/lib/python3.7/site-packages/astropy/table/table.py\u001b[0m in \u001b[0;36m_init_from_list\u001b[0;34m(self, data, names, dtype, n_cols, copy)\u001b[0m\n\u001b[1;32m    683\u001b[0m                                        copy=copy, copy_indices=self._init_indices)\n\u001b[1;32m    684\u001b[0m             \u001b[0;32melse\u001b[0m\u001b[0;34m:\u001b[0m\u001b[0;34m\u001b[0m\u001b[0;34m\u001b[0m\u001b[0m\n\u001b[0;32m--> 685\u001b[0;31m                 raise ValueError('Elements in list initialization must be '\n\u001b[0m\u001b[1;32m    686\u001b[0m                                  'either Column or list-like')\n\u001b[1;32m    687\u001b[0m \u001b[0;34m\u001b[0m\u001b[0m\n",
      "\u001b[0;31mValueError\u001b[0m: Elements in list initialization must be either Column or list-like"
     ]
    }
   ],
   "source": [
    "filename = (\"ls5039_lc1_fixed\")\n",
    "star1 = (filename + \"*.fits\")\n",
    "star1 = StarA(star1)\n",
    "\n",
    "star1.filter()\n",
    "star1.id\n",
    "\n",
    "star1.prepare()\n",
    "\n",
    "star1.export(filename=\"./Desktop/\")\n",
    "star1.plot()"
   ]
  },
  {
   "cell_type": "code",
   "execution_count": null,
   "metadata": {
    "scrolled": true
   },
   "outputs": [],
   "source": [
    "data, header = fits.getdata(\"ls5039_lc1.fits\", header=True)"
   ]
  },
  {
   "cell_type": "code",
   "execution_count": null,
   "metadata": {},
   "outputs": [],
   "source": [
    "hdu_number = 0\n",
    "fits.getheader('ls5039_lc1.fits', hdu_number)\n",
    "print(type(data))\n",
    "print(header[\"NAXIS\"])"
   ]
  },
  {
   "cell_type": "code",
   "execution_count": null,
   "metadata": {},
   "outputs": [],
   "source": [
    "header['SIMPLE'] = \"MJD\"\n",
    "header['BITPIX'] = \"COUNTS\"\n",
    "header['NAXIS'] = \"ERRORS\"\n",
    "header['NAXIS1'] = \"REFERENCE_COUNTS\"\n",
    "header['NAXIS2'] = \"REFERENCE_ERRORS\"\n",
    "\n",
    "a = header[0]\n",
    "b = header[1]\n",
    "c = header[2]\n",
    "d = header[3]\n",
    "e = header[4]\n",
    "\n",
    "print(a,b,c,d,e)\n",
    "\n",
    "with open('test.txt', 'w') as f:\n",
    "    f.write('{a:^8}{b:^8}{c:^8}{d:^8}{e:^8}'.format(a = header[0],b = header[1],c = header[2],d = header[3],e = header[4]))\n",
    "    for a, b, c, d, e in zip(a,b,c,d,e):\n",
    "        f.write('{0:15}{1:15}{2:15}{3:15}{4:15}\\n'.format(a, b, c, d, e))"
   ]
  },
  {
   "cell_type": "code",
   "execution_count": null,
   "metadata": {},
   "outputs": [],
   "source": [
    "table = Table.read('test.txt', format='ascii')\n",
    "mjdtime = table[0][:]\n",
    "flux = table[1][:]\n",
    "reference_flux = table[3][:]"
   ]
  },
  {
   "cell_type": "code",
   "execution_count": null,
   "metadata": {},
   "outputs": [],
   "source": [
    "img = np.zeros((len(table), len(table)))\n",
    "\n",
    "for x,y in zip(mjdtime,flux):\n",
    "    print(x,y)\n",
    "\n",
    "fits.writeto('pls.fits', img)"
   ]
  },
  {
   "cell_type": "code",
   "execution_count": null,
   "metadata": {},
   "outputs": [],
   "source": [
    "f = fits.open('pls.fits')\n"
   ]
  },
  {
   "cell_type": "code",
   "execution_count": null,
   "metadata": {},
   "outputs": [],
   "source": [
    "\n",
    "x = [6512905, 6291646, 3667192, -358003, -4246455, -6512905, -6291646,  -3667192, 358003, 4246455]\n",
    "y = [-1739743, 2420707, 5656530, 6731751, 5235671, 1739743, -2420707, -5656530, -6731751, -5235671]\n",
    "propNum = 100\n",
    "inc = 51.762\n",
    "\n",
    "table = Table([x, y, [propNum] * len(x), [inc] * len(x)], names=('x', 'y', 'propNum', 'inc'))\n",
    "\n",
    "ascii.write(table, 'test4.dat')\n",
    "\n",
    "print(table)"
   ]
  },
  {
   "cell_type": "code",
   "execution_count": null,
   "metadata": {},
   "outputs": [],
   "source": []
  }
 ],
 "metadata": {
  "kernelspec": {
   "display_name": "Python 3",
   "language": "python",
   "name": "python3"
  },
  "language_info": {
   "codemirror_mode": {
    "name": "ipython",
    "version": 3
   },
   "file_extension": ".py",
   "mimetype": "text/x-python",
   "name": "python",
   "nbconvert_exporter": "python",
   "pygments_lexer": "ipython3",
   "version": "3.7.1"
  }
 },
 "nbformat": 4,
 "nbformat_minor": 2
}
